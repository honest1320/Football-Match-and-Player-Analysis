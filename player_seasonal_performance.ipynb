{
 "cells": [
  {
   "cell_type": "code",
   "execution_count": 3,
   "metadata": {},
   "outputs": [],
   "source": [
    "from langchain_openai.chat_models import ChatOpenAI\n",
    "from langchain_core.prompts import PromptTemplate \n",
    "from langchain_core.runnables import RunnableMap, RunnableLambda, RunnablePassthrough\n",
    "from langchain_core.output_parsers import CommaSeparatedListOutputParser\n",
    "import pandas as pd "
   ]
  },
  {
   "cell_type": "markdown",
   "metadata": {},
   "source": [
    "1. Load the Dataset and inspect it"
   ]
  },
  {
   "cell_type": "code",
   "execution_count": 4,
   "metadata": {},
   "outputs": [
    {
     "data": {
      "text/html": [
       "<div>\n",
       "<style scoped>\n",
       "    .dataframe tbody tr th:only-of-type {\n",
       "        vertical-align: middle;\n",
       "    }\n",
       "\n",
       "    .dataframe tbody tr th {\n",
       "        vertical-align: top;\n",
       "    }\n",
       "\n",
       "    .dataframe thead th {\n",
       "        text-align: right;\n",
       "    }\n",
       "</style>\n",
       "<table border=\"1\" class=\"dataframe\">\n",
       "  <thead>\n",
       "    <tr style=\"text-align: right;\">\n",
       "      <th></th>\n",
       "      <th>full_name</th>\n",
       "      <th>country_code</th>\n",
       "      <th>role</th>\n",
       "      <th>season</th>\n",
       "      <th>team</th>\n",
       "      <th>mins_played</th>\n",
       "      <th>xG</th>\n",
       "      <th>goals</th>\n",
       "      <th>xA</th>\n",
       "      <th>assists</th>\n",
       "      <th>xT</th>\n",
       "      <th>xT_from_passes</th>\n",
       "      <th>xT_from_carries</th>\n",
       "      <th>won_dribblings</th>\n",
       "      <th>attempted_dribblings</th>\n",
       "      <th>won_dribblings_ratio</th>\n",
       "      <th>offensive_aero</th>\n",
       "    </tr>\n",
       "  </thead>\n",
       "  <tbody>\n",
       "    <tr>\n",
       "      <th>0</th>\n",
       "      <td>Zlatan Ibrahimovic</td>\n",
       "      <td>SWE</td>\n",
       "      <td>FW</td>\n",
       "      <td>2021</td>\n",
       "      <td>Milan</td>\n",
       "      <td>1008</td>\n",
       "      <td>6.252449</td>\n",
       "      <td>8.0</td>\n",
       "      <td>2.012261</td>\n",
       "      <td>3.0</td>\n",
       "      <td>0.794123</td>\n",
       "      <td>0.635827</td>\n",
       "      <td>0.158296</td>\n",
       "      <td>5.0</td>\n",
       "      <td>9.0</td>\n",
       "      <td>0.5556</td>\n",
       "      <td>68.9437</td>\n",
       "    </tr>\n",
       "    <tr>\n",
       "      <th>1</th>\n",
       "      <td>Fabio Quagliarella</td>\n",
       "      <td>ITA</td>\n",
       "      <td>FW</td>\n",
       "      <td>2021</td>\n",
       "      <td>Sampdoria</td>\n",
       "      <td>1658</td>\n",
       "      <td>4.259178</td>\n",
       "      <td>4.0</td>\n",
       "      <td>1.837090</td>\n",
       "      <td>3.0</td>\n",
       "      <td>0.630270</td>\n",
       "      <td>0.585217</td>\n",
       "      <td>0.045052</td>\n",
       "      <td>11.0</td>\n",
       "      <td>23.0</td>\n",
       "      <td>0.4783</td>\n",
       "      <td>38.1917</td>\n",
       "    </tr>\n",
       "    <tr>\n",
       "      <th>2</th>\n",
       "      <td>Cristiano Ronaldo</td>\n",
       "      <td>PRT</td>\n",
       "      <td>FW</td>\n",
       "      <td>2021</td>\n",
       "      <td>Juventus</td>\n",
       "      <td>31</td>\n",
       "      <td>0.236411</td>\n",
       "      <td>NaN</td>\n",
       "      <td>0.028131</td>\n",
       "      <td>NaN</td>\n",
       "      <td>-0.018240</td>\n",
       "      <td>-0.017597</td>\n",
       "      <td>-0.000644</td>\n",
       "      <td>1.0</td>\n",
       "      <td>1.0</td>\n",
       "      <td>1.0000</td>\n",
       "      <td>NaN</td>\n",
       "    </tr>\n",
       "    <tr>\n",
       "      <th>3</th>\n",
       "      <td>Goran Pandev</td>\n",
       "      <td>MKD</td>\n",
       "      <td>FW</td>\n",
       "      <td>2021</td>\n",
       "      <td>Genoa</td>\n",
       "      <td>835</td>\n",
       "      <td>0.464921</td>\n",
       "      <td>NaN</td>\n",
       "      <td>1.186817</td>\n",
       "      <td>1.0</td>\n",
       "      <td>0.627832</td>\n",
       "      <td>0.349661</td>\n",
       "      <td>0.278171</td>\n",
       "      <td>10.0</td>\n",
       "      <td>22.0</td>\n",
       "      <td>0.4545</td>\n",
       "      <td>40.5377</td>\n",
       "    </tr>\n",
       "    <tr>\n",
       "      <th>4</th>\n",
       "      <td>Stefano Okaka</td>\n",
       "      <td>ITA</td>\n",
       "      <td>FW</td>\n",
       "      <td>2021</td>\n",
       "      <td>Udinese</td>\n",
       "      <td>20</td>\n",
       "      <td>0.033823</td>\n",
       "      <td>NaN</td>\n",
       "      <td>0.001525</td>\n",
       "      <td>1.0</td>\n",
       "      <td>0.016907</td>\n",
       "      <td>0.002524</td>\n",
       "      <td>0.014382</td>\n",
       "      <td>NaN</td>\n",
       "      <td>NaN</td>\n",
       "      <td>NaN</td>\n",
       "      <td>54.5864</td>\n",
       "    </tr>\n",
       "  </tbody>\n",
       "</table>\n",
       "</div>"
      ],
      "text/plain": [
       "            full_name country_code role  season       team  mins_played  \\\n",
       "0  Zlatan Ibrahimovic          SWE   FW    2021      Milan         1008   \n",
       "1  Fabio Quagliarella          ITA   FW    2021  Sampdoria         1658   \n",
       "2   Cristiano Ronaldo          PRT   FW    2021   Juventus           31   \n",
       "3        Goran Pandev          MKD   FW    2021      Genoa          835   \n",
       "4       Stefano Okaka          ITA   FW    2021    Udinese           20   \n",
       "\n",
       "         xG  goals        xA  assists        xT  xT_from_passes  \\\n",
       "0  6.252449    8.0  2.012261      3.0  0.794123        0.635827   \n",
       "1  4.259178    4.0  1.837090      3.0  0.630270        0.585217   \n",
       "2  0.236411    NaN  0.028131      NaN -0.018240       -0.017597   \n",
       "3  0.464921    NaN  1.186817      1.0  0.627832        0.349661   \n",
       "4  0.033823    NaN  0.001525      1.0  0.016907        0.002524   \n",
       "\n",
       "   xT_from_carries  won_dribblings  attempted_dribblings  \\\n",
       "0         0.158296             5.0                   9.0   \n",
       "1         0.045052            11.0                  23.0   \n",
       "2        -0.000644             1.0                   1.0   \n",
       "3         0.278171            10.0                  22.0   \n",
       "4         0.014382             NaN                   NaN   \n",
       "\n",
       "   won_dribblings_ratio  offensive_aero  \n",
       "0                0.5556         68.9437  \n",
       "1                0.4783         38.1917  \n",
       "2                1.0000             NaN  \n",
       "3                0.4545         40.5377  \n",
       "4                   NaN         54.5864  "
      ]
     },
     "execution_count": 4,
     "metadata": {},
     "output_type": "execute_result"
    }
   ],
   "source": [
    "df = pd.read_csv('dataset/serie_a_forwards.csv')\n",
    "df.head()"
   ]
  },
  {
   "cell_type": "code",
   "execution_count": 5,
   "metadata": {},
   "outputs": [
    {
     "data": {
      "text/plain": [
       "Index(['full_name', 'country_code', 'role', 'season', 'team', 'mins_played',\n",
       "       'xG', 'goals', 'xA', 'assists', 'xT', 'xT_from_passes',\n",
       "       'xT_from_carries', 'won_dribblings', 'attempted_dribblings',\n",
       "       'won_dribblings_ratio', 'offensive_aero'],\n",
       "      dtype='object')"
      ]
     },
     "execution_count": 5,
     "metadata": {},
     "output_type": "execute_result"
    }
   ],
   "source": [
    "df.columns"
   ]
  },
  {
   "cell_type": "markdown",
   "metadata": {},
   "source": [
    "2. Data preprocessing. Here you can add what you think might be useful to have a better seasonal analysis. Examples:\n",
    " - over / under performance indicators\n",
    " - normalizations\n",
    " - percentiles \n",
    " - rankings\n"
   ]
  },
  {
   "cell_type": "code",
   "execution_count": 6,
   "metadata": {},
   "outputs": [],
   "source": [
    "#calculate percentile of stats vs players in the same season\n",
    "cols_to_pct = ['xG', 'goals', 'xA', 'assists', 'xT', 'xT_from_passes',\n",
    "       'xT_from_carries', 'won_dribblings', 'attempted_dribblings',\n",
    "       'won_dribblings_ratio', 'offensive_aero']\n",
    "\n",
    "for stat in cols_to_pct:\n",
    "    df[stat + '_percentile'] = df.groupby('season')[stat].rank(pct=True)\n",
    "\n",
    "\n",
    "float_cols = df.select_dtypes(include=['float']).columns\n",
    "df[float_cols] = df[float_cols].round(2)"
   ]
  },
  {
   "cell_type": "code",
   "execution_count": 21,
   "metadata": {},
   "outputs": [
    {
     "data": {
      "text/html": [
       "<div>\n",
       "<style scoped>\n",
       "    .dataframe tbody tr th:only-of-type {\n",
       "        vertical-align: middle;\n",
       "    }\n",
       "\n",
       "    .dataframe tbody tr th {\n",
       "        vertical-align: top;\n",
       "    }\n",
       "\n",
       "    .dataframe thead th {\n",
       "        text-align: right;\n",
       "    }\n",
       "</style>\n",
       "<table border=\"1\" class=\"dataframe\">\n",
       "  <thead>\n",
       "    <tr style=\"text-align: right;\">\n",
       "      <th></th>\n",
       "      <th>full_name</th>\n",
       "      <th>season</th>\n",
       "      <th>xG</th>\n",
       "      <th>xG_percentile</th>\n",
       "      <th>goals</th>\n",
       "      <th>goals_percentile</th>\n",
       "    </tr>\n",
       "  </thead>\n",
       "  <tbody>\n",
       "    <tr>\n",
       "      <th>496</th>\n",
       "      <td>Lautaro Martínez</td>\n",
       "      <td>2023</td>\n",
       "      <td>15.59</td>\n",
       "      <td>1.00</td>\n",
       "      <td>23.0</td>\n",
       "      <td>1.00</td>\n",
       "    </tr>\n",
       "    <tr>\n",
       "      <th>545</th>\n",
       "      <td>Dusan Vlahovic</td>\n",
       "      <td>2023</td>\n",
       "      <td>15.21</td>\n",
       "      <td>0.99</td>\n",
       "      <td>15.0</td>\n",
       "      <td>0.99</td>\n",
       "    </tr>\n",
       "    <tr>\n",
       "      <th>495</th>\n",
       "      <td>Marcus Thuram</td>\n",
       "      <td>2023</td>\n",
       "      <td>12.50</td>\n",
       "      <td>0.99</td>\n",
       "      <td>10.0</td>\n",
       "      <td>0.92</td>\n",
       "    </tr>\n",
       "    <tr>\n",
       "      <th>564</th>\n",
       "      <td>Olivier Giroud</td>\n",
       "      <td>2023</td>\n",
       "      <td>11.15</td>\n",
       "      <td>0.98</td>\n",
       "      <td>12.0</td>\n",
       "      <td>0.98</td>\n",
       "    </tr>\n",
       "    <tr>\n",
       "      <th>578</th>\n",
       "      <td>Romelu Lukaku</td>\n",
       "      <td>2023</td>\n",
       "      <td>10.32</td>\n",
       "      <td>0.98</td>\n",
       "      <td>10.0</td>\n",
       "      <td>0.92</td>\n",
       "    </tr>\n",
       "    <tr>\n",
       "      <th>575</th>\n",
       "      <td>Khvicha Kvaratskhelia</td>\n",
       "      <td>2023</td>\n",
       "      <td>10.26</td>\n",
       "      <td>0.97</td>\n",
       "      <td>10.0</td>\n",
       "      <td>0.92</td>\n",
       "    </tr>\n",
       "    <tr>\n",
       "      <th>489</th>\n",
       "      <td>Victor Osimhen</td>\n",
       "      <td>2023</td>\n",
       "      <td>10.07</td>\n",
       "      <td>0.96</td>\n",
       "      <td>11.0</td>\n",
       "      <td>0.96</td>\n",
       "    </tr>\n",
       "    <tr>\n",
       "      <th>532</th>\n",
       "      <td>Ciro Immobile</td>\n",
       "      <td>2023</td>\n",
       "      <td>9.62</td>\n",
       "      <td>0.96</td>\n",
       "      <td>6.0</td>\n",
       "      <td>0.78</td>\n",
       "    </tr>\n",
       "    <tr>\n",
       "      <th>570</th>\n",
       "      <td>Paulo Dybala</td>\n",
       "      <td>2023</td>\n",
       "      <td>9.40</td>\n",
       "      <td>0.95</td>\n",
       "      <td>12.0</td>\n",
       "      <td>0.98</td>\n",
       "    </tr>\n",
       "    <tr>\n",
       "      <th>574</th>\n",
       "      <td>Nikola Krstovic</td>\n",
       "      <td>2023</td>\n",
       "      <td>9.24</td>\n",
       "      <td>0.94</td>\n",
       "      <td>5.0</td>\n",
       "      <td>0.72</td>\n",
       "    </tr>\n",
       "  </tbody>\n",
       "</table>\n",
       "</div>"
      ],
      "text/plain": [
       "                 full_name  season     xG  xG_percentile  goals  \\\n",
       "496       Lautaro Martínez    2023  15.59           1.00   23.0   \n",
       "545         Dusan Vlahovic    2023  15.21           0.99   15.0   \n",
       "495          Marcus Thuram    2023  12.50           0.99   10.0   \n",
       "564         Olivier Giroud    2023  11.15           0.98   12.0   \n",
       "578          Romelu Lukaku    2023  10.32           0.98   10.0   \n",
       "575  Khvicha Kvaratskhelia    2023  10.26           0.97   10.0   \n",
       "489         Victor Osimhen    2023  10.07           0.96   11.0   \n",
       "532          Ciro Immobile    2023   9.62           0.96    6.0   \n",
       "570           Paulo Dybala    2023   9.40           0.95   12.0   \n",
       "574        Nikola Krstovic    2023   9.24           0.94    5.0   \n",
       "\n",
       "     goals_percentile  \n",
       "496              1.00  \n",
       "545              0.99  \n",
       "495              0.92  \n",
       "564              0.98  \n",
       "578              0.92  \n",
       "575              0.92  \n",
       "489              0.96  \n",
       "532              0.78  \n",
       "570              0.98  \n",
       "574              0.72  "
      ]
     },
     "execution_count": 21,
     "metadata": {},
     "output_type": "execute_result"
    }
   ],
   "source": [
    "(   df\n",
    "    .query('season == 2023')\n",
    "    .sort_values('xG', ascending=False)\n",
    "    [['full_name', 'season','xG', 'xG_percentile', 'goals', 'goals_percentile']]\n",
    "    .head(10)\n",
    ")"
   ]
  },
  {
   "cell_type": "markdown",
   "metadata": {},
   "source": [
    "\n",
    "3. Write a prompt template to extract the informations you need, so player full name and season indication. \n",
    "\n",
    "Your goal here is to have the model generating a structured output, from which you can parse the relevant information (dict, list, comma separated string...)\n",
    "\n",
    "Optional: To have a more flexible app that could also compare players, think of way to extract multiple players at once\n"
   ]
  },
  {
   "cell_type": "code",
   "execution_count": 43,
   "metadata": {},
   "outputs": [],
   "source": [
    "PLAYER_INFO_TEMPLATE = '''\n",
    "You are a words extractor from a given input. \n",
    "Your job is to extract words following instructions and providing them in a specific format.\n",
    "Given a user question you must extract:\n",
    "- Player full names\n",
    "- Seasons\n",
    "\n",
    "Provide the output as a list of dictionaries, where each pair player-season is a dict.\n",
    "Follow this structure: \n",
    "[\n",
    "        {{'full_name': '<player_name_1>' (str), 'season': <season_value_1> (int)}},\n",
    "        ...{{'full_name': '<player_name_N>' (str), 'season': <season_value_N> (int)}}]\n",
    "\n",
    "The season indication is a 4 digits number, indicating the year of the first matchday (e.g. 2020, 2021, 2022 and so on).\n",
    "Note that the current season is 2023.\n",
    "\n",
    "Example: Paulo Dybala seasonal performance in 2022. \n",
    "Output: [{{'full_name': 'Paulo Dybala', 'season': 2022}}]\n",
    "\n",
    "Here is the input to process: \n",
    "{input}\n",
    "'''\n",
    "\n",
    "\n",
    "player_info_template = PromptTemplate(\n",
    "        template=PLAYER_INFO_TEMPLATE, \n",
    "        input_variables=['input']\n",
    "        )\n",
    "\n",
    "\n",
    "llm = ChatOpenAI(model='gpt-3.5-turbo', timeout=4, max_retries=3, temperature=0)\n",
    "\n",
    "info_chain = player_info_template | llm \n"
   ]
  },
  {
   "cell_type": "markdown",
   "metadata": {},
   "source": [
    "4. Test the extraction step! Look at the output and then find a way to parse it into a python data structure"
   ]
  },
  {
   "cell_type": "code",
   "execution_count": 44,
   "metadata": {},
   "outputs": [],
   "source": [
    "input = 'Compare the seasons of Paulo Dybala in 2022 and Dusan Vlahovic in 2021'\n",
    "result = info_chain.invoke({'input':input})\n",
    "result.content\n",
    "res = eval(result.content)"
   ]
  },
  {
   "cell_type": "code",
   "execution_count": 45,
   "metadata": {},
   "outputs": [
    {
     "name": "stdout",
     "output_type": "stream",
     "text": [
      "[{'full_name': 'Paulo Dybala', 'season': 2022}, {'full_name': 'Dusan Vlahovic', 'season': 2021}] <class 'list'> <class 'dict'>\n"
     ]
    }
   ],
   "source": [
    "print(res, type(res), type(res[0]))"
   ]
  },
  {
   "cell_type": "markdown",
   "metadata": {},
   "source": [
    "5. Filter the player you want to analyze (select the correct season!) from the dataframe"
   ]
  },
  {
   "cell_type": "code",
   "execution_count": 46,
   "metadata": {},
   "outputs": [
    {
     "data": {
      "text/html": [
       "<div>\n",
       "<style scoped>\n",
       "    .dataframe tbody tr th:only-of-type {\n",
       "        vertical-align: middle;\n",
       "    }\n",
       "\n",
       "    .dataframe tbody tr th {\n",
       "        vertical-align: top;\n",
       "    }\n",
       "\n",
       "    .dataframe thead th {\n",
       "        text-align: right;\n",
       "    }\n",
       "</style>\n",
       "<table border=\"1\" class=\"dataframe\">\n",
       "  <thead>\n",
       "    <tr style=\"text-align: right;\">\n",
       "      <th></th>\n",
       "      <th>full_name</th>\n",
       "      <th>season</th>\n",
       "    </tr>\n",
       "  </thead>\n",
       "  <tbody>\n",
       "    <tr>\n",
       "      <th>0</th>\n",
       "      <td>Paulo Dybala</td>\n",
       "      <td>2022</td>\n",
       "    </tr>\n",
       "    <tr>\n",
       "      <th>1</th>\n",
       "      <td>Dusan Vlahovic</td>\n",
       "      <td>2021</td>\n",
       "    </tr>\n",
       "  </tbody>\n",
       "</table>\n",
       "</div>"
      ],
      "text/plain": [
       "        full_name  season\n",
       "0    Paulo Dybala    2022\n",
       "1  Dusan Vlahovic    2021"
      ]
     },
     "execution_count": 46,
     "metadata": {},
     "output_type": "execute_result"
    }
   ],
   "source": [
    "players_to_filter = pd.DataFrame(res)\n",
    "players_to_filter\n"
   ]
  },
  {
   "cell_type": "code",
   "execution_count": 47,
   "metadata": {},
   "outputs": [],
   "source": [
    "filtered_df = pd.merge(df, players_to_filter, on=['full_name', 'season'], how='inner')"
   ]
  },
  {
   "cell_type": "markdown",
   "metadata": {},
   "source": [
    "6. Check your filtered df"
   ]
  },
  {
   "cell_type": "code",
   "execution_count": 48,
   "metadata": {},
   "outputs": [
    {
     "data": {
      "text/html": [
       "<div>\n",
       "<style scoped>\n",
       "    .dataframe tbody tr th:only-of-type {\n",
       "        vertical-align: middle;\n",
       "    }\n",
       "\n",
       "    .dataframe tbody tr th {\n",
       "        vertical-align: top;\n",
       "    }\n",
       "\n",
       "    .dataframe thead th {\n",
       "        text-align: right;\n",
       "    }\n",
       "</style>\n",
       "<table border=\"1\" class=\"dataframe\">\n",
       "  <thead>\n",
       "    <tr style=\"text-align: right;\">\n",
       "      <th></th>\n",
       "      <th>full_name</th>\n",
       "      <th>country_code</th>\n",
       "      <th>role</th>\n",
       "      <th>season</th>\n",
       "      <th>team</th>\n",
       "      <th>mins_played</th>\n",
       "      <th>xG</th>\n",
       "      <th>goals</th>\n",
       "      <th>xA</th>\n",
       "      <th>assists</th>\n",
       "      <th>xT</th>\n",
       "      <th>xT_from_passes</th>\n",
       "      <th>xT_from_carries</th>\n",
       "      <th>won_dribblings</th>\n",
       "      <th>attempted_dribblings</th>\n",
       "      <th>won_dribblings_ratio</th>\n",
       "      <th>offensive_aero</th>\n",
       "    </tr>\n",
       "  </thead>\n",
       "  <tbody>\n",
       "    <tr>\n",
       "      <th>0</th>\n",
       "      <td>Dusan Vlahovic</td>\n",
       "      <td>SRB</td>\n",
       "      <td>FW</td>\n",
       "      <td>2021</td>\n",
       "      <td>Fiorentina</td>\n",
       "      <td>1861</td>\n",
       "      <td>12.051746</td>\n",
       "      <td>17.0</td>\n",
       "      <td>2.749618</td>\n",
       "      <td>2.0</td>\n",
       "      <td>0.660551</td>\n",
       "      <td>0.292195</td>\n",
       "      <td>0.368356</td>\n",
       "      <td>20.0</td>\n",
       "      <td>37.0</td>\n",
       "      <td>0.5405</td>\n",
       "      <td>68.7435</td>\n",
       "    </tr>\n",
       "    <tr>\n",
       "      <th>1</th>\n",
       "      <td>Dusan Vlahovic</td>\n",
       "      <td>SRB</td>\n",
       "      <td>FW</td>\n",
       "      <td>2021</td>\n",
       "      <td>Juventus</td>\n",
       "      <td>1077</td>\n",
       "      <td>5.668080</td>\n",
       "      <td>7.0</td>\n",
       "      <td>0.391012</td>\n",
       "      <td>1.0</td>\n",
       "      <td>0.172660</td>\n",
       "      <td>-0.073325</td>\n",
       "      <td>0.245985</td>\n",
       "      <td>11.0</td>\n",
       "      <td>27.0</td>\n",
       "      <td>0.4074</td>\n",
       "      <td>63.4608</td>\n",
       "    </tr>\n",
       "    <tr>\n",
       "      <th>2</th>\n",
       "      <td>Paulo Dybala</td>\n",
       "      <td>ARG</td>\n",
       "      <td>FW</td>\n",
       "      <td>2022</td>\n",
       "      <td>Roma</td>\n",
       "      <td>1751</td>\n",
       "      <td>9.692037</td>\n",
       "      <td>12.0</td>\n",
       "      <td>4.083198</td>\n",
       "      <td>6.0</td>\n",
       "      <td>2.271581</td>\n",
       "      <td>1.161230</td>\n",
       "      <td>1.110351</td>\n",
       "      <td>27.0</td>\n",
       "      <td>54.0</td>\n",
       "      <td>0.5000</td>\n",
       "      <td>28.7969</td>\n",
       "    </tr>\n",
       "  </tbody>\n",
       "</table>\n",
       "</div>"
      ],
      "text/plain": [
       "        full_name country_code role  season        team  mins_played  \\\n",
       "0  Dusan Vlahovic          SRB   FW    2021  Fiorentina         1861   \n",
       "1  Dusan Vlahovic          SRB   FW    2021    Juventus         1077   \n",
       "2    Paulo Dybala          ARG   FW    2022        Roma         1751   \n",
       "\n",
       "          xG  goals        xA  assists        xT  xT_from_passes  \\\n",
       "0  12.051746   17.0  2.749618      2.0  0.660551        0.292195   \n",
       "1   5.668080    7.0  0.391012      1.0  0.172660       -0.073325   \n",
       "2   9.692037   12.0  4.083198      6.0  2.271581        1.161230   \n",
       "\n",
       "   xT_from_carries  won_dribblings  attempted_dribblings  \\\n",
       "0         0.368356            20.0                  37.0   \n",
       "1         0.245985            11.0                  27.0   \n",
       "2         1.110351            27.0                  54.0   \n",
       "\n",
       "   won_dribblings_ratio  offensive_aero  \n",
       "0                0.5405         68.7435  \n",
       "1                0.4074         63.4608  \n",
       "2                0.5000         28.7969  "
      ]
     },
     "execution_count": 48,
     "metadata": {},
     "output_type": "execute_result"
    }
   ],
   "source": [
    "filtered_df"
   ]
  },
  {
   "cell_type": "markdown",
   "metadata": {},
   "source": [
    "7. Transform your filtered dataframe into a list of dict (Hint: .to_dict(orient='records'))"
   ]
  },
  {
   "cell_type": "code",
   "execution_count": 49,
   "metadata": {},
   "outputs": [],
   "source": [
    "players_data = filtered_df.to_dict(orient='records')"
   ]
  },
  {
   "cell_type": "markdown",
   "metadata": {},
   "source": [
    "8. Write a prompt template to generate the final report given:\n",
    "- user input\n",
    "- extracted data\n",
    "- metrics description (you can load them from  the script utils/descriptions.py)\n",
    "\n",
    "Use the prompt techniques described into the lecture if you think they might fit. There is no right or wrong solution here.\n",
    "Prompt engineering is a trial and error process, try different things and be creative!"
   ]
  },
  {
   "cell_type": "code",
   "execution_count": 85,
   "metadata": {},
   "outputs": [],
   "source": [
    "from utils.descriptions import Descriptions\n",
    "OUTPUT_TEMPLATE = '''\n",
    "You are a soccer data analyst. You are provided with a user input and useful advanced metrics to answer the question.\n",
    "If multiple players are provided, try to perform a comparison between them.\n",
    "\n",
    "User input: {input}\n",
    "Data: {data}\n",
    "\n",
    "Use these definitions to better understand the metrics you are provided: \n",
    "{stat_description}\n",
    "\n",
    "If a player has played in multiple teams in the same season, try compare the two situations when possible. \n",
    "Make your analysis as a report. \n",
    "Divide your analysis in two parts:\n",
    "\n",
    "1. Creation: talk about assists and xA, xT and dribblings skill when notable\n",
    "2. Finishing: talk about goals and xG and how they compare (over / under performance?) and about areial dominance (use AERO elo value!)\n",
    "3. Overall conclusion, tell who is better overall in case of comparisons \n",
    "\n",
    "Make it a coherent text not a bullet point list. Put a title, and paragraph names well formatted.\n",
    "'''\n",
    "\n",
    "\n",
    "output_template = PromptTemplate(\n",
    "        template=OUTPUT_TEMPLATE, \n",
    "        input_variables = ['input', 'data'], \n",
    "        partial_variables={'stat_description': Descriptions.stats}\n",
    "        )\n",
    "\n",
    "llm = ChatOpenAI(model='gpt-3.5-turbo', timeout=30, max_retries=3, temperature=0)\n",
    "\n",
    "output_chain = output_template | llm "
   ]
  },
  {
   "cell_type": "markdown",
   "metadata": {},
   "source": [
    "9. Invoke the chain and see results!"
   ]
  },
  {
   "cell_type": "code",
   "execution_count": 86,
   "metadata": {},
   "outputs": [],
   "source": [
    "\n",
    "report = output_chain.invoke(\n",
    "    {\n",
    "        'input': input, \n",
    "        'data': players_data,\n",
    "        }\n",
    "    )"
   ]
  },
  {
   "cell_type": "code",
   "execution_count": 87,
   "metadata": {},
   "outputs": [
    {
     "name": "stdout",
     "output_type": "stream",
     "text": [
      "('**Analysis of Paulo Dybala in 2022 vs Dusan Vlahovic in 2021**\\n'\n",
      " '\\n'\n",
      " '**Creation:**\\n'\n",
      " 'When comparing the creation aspect of the two players, Paulo Dybala in the '\n",
      " '2022 season stands out with his higher xA and assists numbers compared to '\n",
      " 'Dusan Vlahovic in 2021. Dybala recorded an xA of 4.083 and 6 assists, '\n",
      " 'showcasing his ability to create goal-scoring opportunities for his '\n",
      " 'teammates. On the other hand, Vlahovic had an xA of 2.749 and 2 assists in '\n",
      " 'his time at Fiorentina, and a lower xA of 0.391 and 1 assist during his '\n",
      " \"stint at Juventus. Dybala's higher xA and assists numbers indicate his \"\n",
      " 'proficiency in setting up goals for his team.\\n'\n",
      " '\\n'\n",
      " 'In terms of expected threat (xT), Dybala also outperformed Vlahovic in this '\n",
      " \"aspect. Dybala's xT of 2.271 from passes and carries suggests that his \"\n",
      " \"actions significantly increased his team's scoring probability by moving the \"\n",
      " 'ball into more threatening zones. Vlahovic, on the other hand, had lower xT '\n",
      " 'values, indicating that his contributions in this area were not as impactful '\n",
      " \"as Dybala's.\\n\"\n",
      " '\\n'\n",
      " 'When it comes to dribbling skills, Dybala and Vlahovic both showcased their '\n",
      " 'ability to beat opponents with successful dribbles. Dybala won 27 out of 54 '\n",
      " 'attempted dribbles, giving him a 50% success rate. Vlahovic, on the other '\n",
      " 'hand, won 31 out of 64 attempted dribbles, with a slightly higher success '\n",
      " 'rate of 48.4%. Both players demonstrated their skill in taking on defenders '\n",
      " 'and creating opportunities through dribbling.\\n'\n",
      " '\\n'\n",
      " '**Finishing:**\\n'\n",
      " 'In terms of finishing, Dusan Vlahovic had a higher xG in the 2021 season '\n",
      " \"compared to Paulo Dybala in 2022. Vlahovic's xG of 12.051 across both \"\n",
      " \"Fiorentina and Juventus was higher than Dybala's xG of 9.692. However, when \"\n",
      " 'it comes to actual goals scored, Vlahovic netted a total of 24 goals (17 at '\n",
      " 'Fiorentina and 7 at Juventus) while Dybala scored a total of 12 goals for '\n",
      " 'Roma. This indicates that Vlahovic overperformed in terms of goals compared '\n",
      " \"to his xG, while Dybala's goal tally was closer to his expected goals.\\n\"\n",
      " '\\n'\n",
      " 'In terms of aerial dominance, Vlahovic had a higher offensive AERO rating of '\n",
      " '68.7435 at Fiorentina and 63.4608 at Juventus, indicating his effectiveness '\n",
      " 'in offensive aerial duels. Dybala, on the other hand, had a lower offensive '\n",
      " 'AERO rating of 28.7969, suggesting that he was less dominant in aerial duels '\n",
      " 'compared to Vlahovic.\\n'\n",
      " '\\n'\n",
      " '**Overall Conclusion:**\\n'\n",
      " 'In conclusion, when comparing the seasons of Paulo Dybala in 2022 and Dusan '\n",
      " 'Vlahovic in 2021, Dybala excelled in creation with higher xA and assists '\n",
      " 'numbers, as well as in expected threat. Vlahovic, on the other hand, '\n",
      " 'outperformed Dybala in finishing with a higher xG and goal tally, as well as '\n",
      " 'in aerial dominance. Overall, both players showcased their strengths in '\n",
      " 'different aspects of the game, making it challenging to determine a clear '\n",
      " \"winner. Dybala's creativity and playmaking abilities contrast with \"\n",
      " \"Vlahovic's goal-scoring prowess and aerial dominance, making them both \"\n",
      " 'valuable assets to their respective teams.')\n"
     ]
    }
   ],
   "source": [
    "from pprint import pprint\n",
    "pprint(report.content)"
   ]
  },
  {
   "cell_type": "markdown",
   "metadata": {},
   "source": [
    "10. Make all togheter in a single chain"
   ]
  },
  {
   "cell_type": "code",
   "execution_count": 88,
   "metadata": {},
   "outputs": [],
   "source": [
    "def parse_player_info(extracted_dict)->list:\n",
    "    return eval(extracted_dict.content)\n",
    "\n",
    "def filter_and_format_data(extracted_dict: dict)->dict:\n",
    "    players_to_filter = pd.DataFrame(extracted_dict)\n",
    "    filtered_df = pd.merge(df, players_to_filter, on=['full_name', 'season'], how='inner')\n",
    "    return filtered_df.to_dict(orient='records')\n",
    "    "
   ]
  },
  {
   "cell_type": "code",
   "execution_count": 77,
   "metadata": {},
   "outputs": [
    {
     "data": {
      "text/plain": [
       "str"
      ]
     },
     "execution_count": 77,
     "metadata": {},
     "output_type": "execute_result"
    }
   ],
   "source": []
  },
  {
   "cell_type": "code",
   "execution_count": 89,
   "metadata": {},
   "outputs": [],
   "source": [
    "seasonal_report_chain = (RunnableMap(\n",
    "            steps={\n",
    "                    \"input\": lambda x: x['input'],\n",
    "                    \"data\": (\n",
    "                        player_info_template \n",
    "                        | llm \n",
    "                        | parse_player_info \n",
    "                        | filter_and_format_data\n",
    "                    ),\n",
    "            }\n",
    "))\n",
    "\n"
   ]
  },
  {
   "cell_type": "code",
   "execution_count": 74,
   "metadata": {},
   "outputs": [
    {
     "data": {
      "text/plain": [
       "{'steps': {'input': 'Paulo Dybala seasonal performance in 2021',\n",
       "  'data': [{'full_name': 'Paulo Dybala',\n",
       "    'country_code': 'ARG',\n",
       "    'role': 'FW',\n",
       "    'season': 2021,\n",
       "    'team': 'Juventus',\n",
       "    'mins_played': 2072,\n",
       "    'xG': 8.1260417,\n",
       "    'goals': 10.0,\n",
       "    'xA': 4.4156602,\n",
       "    'assists': 5.0,\n",
       "    'xT': 1.9653445,\n",
       "    'xT_from_passes': 0.740577,\n",
       "    'xT_from_carries': 1.2247675,\n",
       "    'won_dribblings': 47.0,\n",
       "    'attempted_dribblings': 79.0,\n",
       "    'won_dribblings_ratio': 0.5949,\n",
       "    'offensive_aero': 34.7566}]}}"
      ]
     },
     "execution_count": 74,
     "metadata": {},
     "output_type": "execute_result"
    }
   ],
   "source": []
  },
  {
   "cell_type": "code",
   "execution_count": 91,
   "metadata": {},
   "outputs": [],
   "source": [
    "seasonal_report_chain = (RunnableMap(\n",
    "            steps={\n",
    "                    \"input\": lambda x: x['input'],\n",
    "                    \"data\": (\n",
    "                        player_info_template \n",
    "                        | llm \n",
    "                        | parse_player_info \n",
    "                        | filter_and_format_data\n",
    "                    ),\n",
    "                })\n",
    "            | RunnableLambda(lambda x: x['steps'])\n",
    "            | output_template\n",
    "            | llm \n",
    "            )\n"
   ]
  },
  {
   "cell_type": "code",
   "execution_count": 93,
   "metadata": {},
   "outputs": [
    {
     "name": "stdout",
     "output_type": "stream",
     "text": [
      "AIMessage(content=\"**Analysis of Seasonal Performance: Cristiano Ronaldo vs Romelu Lukaku in 2020**\\n\\n**Creation:**\\nWhen it comes to the creation aspect of their game, Romelu Lukaku had a standout season in 2020 with 11 assists compared to Cristiano Ronaldo's 3 assists. Lukaku's xA (Expected Assists) value of 6.34 also indicates his ability to create goal-scoring opportunities for his teammates. On the other hand, Ronaldo's xA of 3.42 shows his contribution in this aspect but falls short compared to Lukaku. \\n\\nIn terms of expected threat (xT), both players had similar xT values, with Lukaku slightly edging out Ronaldo. Lukaku's xT from passes and carries were 0.92 and 2.10 respectively, while Ronaldo's were 0.92 and 2.88. This suggests that both players were equally effective in increasing their team's scoring probability through their actions on the field.\\n\\nDribbling is another key aspect of creation, and Ronaldo had a higher success rate in dribbling with a 61.05% success rate compared to Lukaku's 56.99%. Ronaldo won 58 out of 95 attempted dribbles, showcasing his skill and ability to beat defenders on the field.\\n\\n**Finishing:**\\nWhen it comes to finishing, Cristiano Ronaldo had a remarkable season in 2020, scoring 29 goals with an xG (Expected Goals) value of 28.94. This indicates that Ronaldo not only met but also exceeded expectations in terms of goal-scoring. On the other hand, Romelu Lukaku scored 24 goals with an xG value of 24.80, suggesting that he performed close to expectations in this aspect.\\n\\nIn terms of aerial dominance, Ronaldo's offensive AERO rating of 72.28 outshines Lukaku's rating of 62.60. This indicates Ronaldo's superiority in winning offensive aerial duels against opponents, showcasing his physical presence and effectiveness in the air.\\n\\n**Overall Conclusion:**\\nIn conclusion, both Cristiano Ronaldo and Romelu Lukaku had impressive performances in the 2020 season. While Lukaku excelled in creating goal-scoring opportunities for his team with more assists and a higher xA value, Ronaldo stood out in finishing with a higher goal tally and overperforming his xG. Ronaldo's aerial dominance also gives him an edge in terms of physicality and effectiveness in offensive aerial duels. Overall, in a comparison between the two players, Cristiano Ronaldo's combination of goal-scoring prowess, dribbling skill, and aerial dominance makes him the better overall performer in the 2020 season.\", response_metadata={'token_usage': {'completion_tokens': 542, 'prompt_tokens': 752, 'total_tokens': 1294}, 'model_name': 'gpt-3.5-turbo', 'system_fingerprint': 'fp_3bc1b5746c', 'finish_reason': 'stop', 'logprobs': None})\n"
     ]
    }
   ],
   "source": [
    "res = seasonal_report_chain.invoke({'input': \"Compare the seasonal performance of Cristiano Ronaldo and Romelu Lukaku in 2020\"})\n",
    "pprint(res)"
   ]
  }
 ],
 "metadata": {
  "kernelspec": {
   "display_name": ".venv",
   "language": "python",
   "name": "python3"
  },
  "language_info": {
   "codemirror_mode": {
    "name": "ipython",
    "version": 3
   },
   "file_extension": ".py",
   "mimetype": "text/x-python",
   "name": "python",
   "nbconvert_exporter": "python",
   "pygments_lexer": "ipython3",
   "version": "3.10.8"
  },
  "orig_nbformat": 4
 },
 "nbformat": 4,
 "nbformat_minor": 2
}
